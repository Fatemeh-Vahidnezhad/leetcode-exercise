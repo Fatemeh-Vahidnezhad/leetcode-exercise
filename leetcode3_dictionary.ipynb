{
  "nbformat": 4,
  "nbformat_minor": 0,
  "metadata": {
    "colab": {
      "provenance": [],
      "authorship_tag": "ABX9TyMjYzQGukc7niPCqRiHxc6t",
      "include_colab_link": true
    },
    "kernelspec": {
      "name": "python3",
      "display_name": "Python 3"
    },
    "language_info": {
      "name": "python"
    }
  },
  "cells": [
    {
      "cell_type": "markdown",
      "metadata": {
        "id": "view-in-github",
        "colab_type": "text"
      },
      "source": [
        "<a href=\"https://colab.research.google.com/github/Fatemeh-Vahidnezhad/leetcode-exercise/blob/main/leetcode3_dictionary.ipynb\" target=\"_parent\"><img src=\"https://colab.research.google.com/assets/colab-badge.svg\" alt=\"Open In Colab\"/></a>"
      ]
    },
    {
      "cell_type": "markdown",
      "source": [
        "Valid Anagram"
      ],
      "metadata": {
        "id": "UYpLcIMci0tM"
      }
    },
    {
      "cell_type": "code",
      "source": [
        "import collections\n"
      ],
      "metadata": {
        "id": "B7JU7o6SjzQr"
      },
      "execution_count": null,
      "outputs": []
    },
    {
      "cell_type": "code",
      "execution_count": null,
      "metadata": {
        "colab": {
          "base_uri": "https://localhost:8080/"
        },
        "id": "TXjKi0YFiwLW",
        "outputId": "f6d7b760-439e-4687-89d7-70974eac1d90"
      },
      "outputs": [
        {
          "output_type": "execute_result",
          "data": {
            "text/plain": [
              "False"
            ]
          },
          "metadata": {},
          "execution_count": 12
        }
      ],
      "source": [
        "s ='brainy'\n",
        "b = 'rainssby'\n",
        "collections.Counter(b)\n",
        "def validAnagram(b,s):\n",
        "  return collections.Counter(b) == collections.Counter(s)\n",
        "\n",
        "validAnagram(b,s)\n"
      ]
    },
    {
      "cell_type": "markdown",
      "source": [
        "Excel sheet column number"
      ],
      "metadata": {
        "id": "NF1efg93kpmV"
      }
    },
    {
      "cell_type": "markdown",
      "source": [
        "ABC --> \\\n",
        "C = 3 * 26^0 \\\n",
        "(B =2 * 26) \\\n",
        "(A =1 * 26^2)"
      ],
      "metadata": {
        "id": "VCUfMdvpm8eR"
      }
    },
    {
      "cell_type": "code",
      "source": [
        "s = 'za'\n",
        "def Excel_column_Num(s):\n",
        "  s = s.upper()\n",
        "  value = 0\n",
        "  dic = {chr(i+65): i+1 for i in range(26)}\n",
        "  for i in range(len(s)):\n",
        "    value += dic[s[i]] * 26**(len(s)-i-1)\n",
        "  return value\n",
        "Excel_column_Num(s)"
      ],
      "metadata": {
        "colab": {
          "base_uri": "https://localhost:8080/"
        },
        "id": "V91kB_vho951",
        "outputId": "3f45665a-defc-4a4c-fdaf-6fb04433b997"
      },
      "execution_count": null,
      "outputs": [
        {
          "output_type": "execute_result",
          "data": {
            "text/plain": [
              "677"
            ]
          },
          "metadata": {},
          "execution_count": 43
        }
      ]
    },
    {
      "cell_type": "markdown",
      "source": [
        "Two Sum"
      ],
      "metadata": {
        "id": "AvLqVePUy2yb"
      }
    },
    {
      "cell_type": "code",
      "source": [
        "x = [3,2,4,5,1,7,3,7,7,7]\n",
        "target = 6\n",
        "dic = {}\n",
        "lst = []\n",
        "count = 1\n",
        "#count the number of memebers i a list\n",
        "dic1 = {i:x.count(i) for i in x}\n",
        "\n",
        "if target%2 == 0 and target/2 in x and dic1[int(target/2)]==2:     # remove 3 , 3\n",
        "  pass\n",
        "else:\n",
        "  dic.pop(int(target/2))\n",
        "for i in x:\n",
        "  diff = target - i\n",
        "  if diff in dic and i in dic:\n",
        "    print(i, diff)\n",
        "dic\n",
        "dic1"
      ],
      "metadata": {
        "colab": {
          "base_uri": "https://localhost:8080/"
        },
        "id": "3yYeros0y5CZ",
        "outputId": "45f01767-76bb-481f-ac19-930e847a2867"
      },
      "execution_count": null,
      "outputs": [
        {
          "output_type": "execute_result",
          "data": {
            "text/plain": [
              "{3: 2, 2: 1, 4: 1, 5: 1, 1: 1, 7: 4}"
            ]
          },
          "metadata": {},
          "execution_count": 53
        }
      ]
    },
    {
      "cell_type": "markdown",
      "source": [
        "شماره تعداد ایتم های یک لیست با دیکشنری"
      ],
      "metadata": {
        "id": "HygRFfaULyoj"
      }
    },
    {
      "cell_type": "code",
      "source": [
        "x = [3,2,4,5,1,7,3,3]\n",
        "{i:x.count(i) for i in x}"
      ],
      "metadata": {
        "colab": {
          "base_uri": "https://localhost:8080/"
        },
        "id": "YGaraEIBH03g",
        "outputId": "cbe0e180-213c-430e-c067-e28183fa2396"
      },
      "execution_count": null,
      "outputs": [
        {
          "output_type": "execute_result",
          "data": {
            "text/plain": [
              "{3: 3, 2: 1, 4: 1, 5: 1, 1: 1, 7: 1}"
            ]
          },
          "metadata": {},
          "execution_count": 48
        }
      ]
    },
    {
      "cell_type": "markdown",
      "source": [
        "fizz buzz"
      ],
      "metadata": {
        "id": "5mrumxVwXXvo"
      }
    },
    {
      "cell_type": "code",
      "source": [
        "dic = {3:'fizz', 5:'fuzz', 15:'fizz fuzz'}\n",
        "n = 30\n",
        "for i in range(1,n+1):\n",
        "  if i % 15 ==0:\n",
        "    print(dic[15], end = ', ')\n",
        "  elif i % 3 == 0 :\n",
        "    print(dic[3], end = ', ')\n",
        "  elif i % 5 ==0:\n",
        "    print(dic[5], end = ', ')\n",
        "  else:\n",
        "    print(i, end = ', ')"
      ],
      "metadata": {
        "id": "xXpTGcBSX27O",
        "colab": {
          "base_uri": "https://localhost:8080/"
        },
        "outputId": "f9701024-6322-41c7-bdd5-8de161865144"
      },
      "execution_count": null,
      "outputs": [
        {
          "output_type": "stream",
          "name": "stdout",
          "text": [
            "1, 2, fizz, 4, fuzz, fizz, 7, 8, fizz, fuzz, 11, fizz, 13, 14, fizz fuzz, 16, 17, fizz, 19, fuzz, fizz, 22, 23, fizz, fuzz, 26, fizz, 28, 29, fizz fuzz, "
          ]
        }
      ]
    },
    {
      "cell_type": "markdown",
      "source": [
        "# Single Number"
      ],
      "metadata": {
        "id": "4RPQQDIvIhjG"
      }
    },
    {
      "cell_type": "code",
      "source": [
        "x = [4,1,2,1,2,2,5]\n",
        "dic = {i:x.count(i) for i in x}\n",
        "print(dic)\n",
        "for key, value in dic.items():\n",
        "  if value == 1:\n",
        "    print(key)"
      ],
      "metadata": {
        "colab": {
          "base_uri": "https://localhost:8080/"
        },
        "id": "syfmOG3iIkeT",
        "outputId": "f06b149c-d022-4d62-b05f-5e2829486243"
      },
      "execution_count": null,
      "outputs": [
        {
          "output_type": "stream",
          "name": "stdout",
          "text": [
            "{4: 1, 1: 2, 2: 3, 5: 1}\n",
            "4\n",
            "5\n"
          ]
        }
      ]
    },
    {
      "cell_type": "markdown",
      "source": [
        "طول یک لیست"
      ],
      "metadata": {
        "id": "9ypijMI_fPMa"
      }
    },
    {
      "cell_type": "code",
      "source": [
        "x = [4,1,2,1,2,2,5]\n",
        "lst = []\n",
        "count = 0\n",
        "for i in x:\n",
        "  lst.append(i)\n",
        "  count +=1\n",
        "count"
      ],
      "metadata": {
        "colab": {
          "base_uri": "https://localhost:8080/"
        },
        "id": "0HPHDAArZofD",
        "outputId": "3d4357b9-d7bd-4d9f-b3d0-b58b496c55e9"
      },
      "execution_count": null,
      "outputs": [
        {
          "output_type": "execute_result",
          "data": {
            "text/plain": [
              "7"
            ]
          },
          "metadata": {},
          "execution_count": 69
        }
      ]
    },
    {
      "cell_type": "code",
      "source": [
        "x = [4,1,2,1,2,2,5]\n",
        "lst = []\n",
        "count = 1\n",
        "for i in x:\n",
        "  # lst.append(i)\n",
        "  dic[i] += count\n",
        "  print('i, count',i, count)\n",
        "# for i, j in dic.items():\n",
        "#   print(i,j)\n",
        "dic"
      ],
      "metadata": {
        "colab": {
          "base_uri": "https://localhost:8080/"
        },
        "id": "oPvi4Ae9fSO-",
        "outputId": "5e4a52e2-3ef1-441a-fe70-bccb839c1f8f"
      },
      "execution_count": null,
      "outputs": [
        {
          "output_type": "stream",
          "name": "stdout",
          "text": [
            "i, count 4 1\n",
            "i, count 1 1\n",
            "i, count 2 1\n",
            "i, count 1 1\n",
            "i, count 2 1\n",
            "i, count 2 1\n",
            "i, count 5 1\n"
          ]
        },
        {
          "output_type": "execute_result",
          "data": {
            "text/plain": [
              "{4: 6, 1: 11, 2: 16, 5: 6}"
            ]
          },
          "metadata": {},
          "execution_count": 80
        }
      ]
    },
    {
      "cell_type": "markdown",
      "source": [
        "Valid Parentheses"
      ],
      "metadata": {
        "id": "SmeRvLDYIDt9"
      }
    },
    {
      "cell_type": "code",
      "source": [
        "def ValidParentheses(s):\n",
        "  stack = []\n",
        "  dic = {\n",
        "      '}':'{',\n",
        "      ')':'(',\n",
        "      ']':'['\n",
        "  }\n",
        "  if len(s)%2 != 0:\n",
        "    return False\n",
        "\n",
        "  for i in s:\n",
        "    if i in dic:\n",
        "      if stack:\n",
        "\n",
        "        x = stack.pop()\n",
        "        print(x)\n",
        "        if dic[i] != x:\n",
        "          print('dic',dic[i],x)\n",
        "          return False\n",
        "      else:\n",
        "        return False\n",
        "\n",
        "    else:\n",
        "      stack.append(i)\n",
        "s = '{(([)])}'\n",
        "ValidParentheses(s)"
      ],
      "metadata": {
        "id": "cdY-orh6FCwm",
        "colab": {
          "base_uri": "https://localhost:8080/"
        },
        "outputId": "753acaad-c370-46c0-86c4-e604ad534988"
      },
      "execution_count": null,
      "outputs": [
        {
          "output_type": "stream",
          "name": "stdout",
          "text": [
            "[\n",
            "dic ( [\n"
          ]
        },
        {
          "output_type": "execute_result",
          "data": {
            "text/plain": [
              "False"
            ]
          },
          "metadata": {},
          "execution_count": 17
        }
      ]
    },
    {
      "cell_type": "markdown",
      "source": [
        "First unique charactor"
      ],
      "metadata": {
        "id": "w6PumYvxdHUB"
      }
    },
    {
      "cell_type": "code",
      "source": [
        "s = 'amirali'\n",
        "def first_unique_ch(S):\n",
        "  dic = {i:s.count(i) for i in s}\n",
        "  print(dic)\n",
        "  for key, value in dic.items():\n",
        "    if dic[key]==1:\n",
        "      return key\n",
        "\n",
        "first_unique_ch(s)"
      ],
      "metadata": {
        "colab": {
          "base_uri": "https://localhost:8080/",
          "height": 54
        },
        "id": "f0t9Me2TdRxB",
        "outputId": "fee9fd16-0063-4ae5-a220-1fea99cc37e6"
      },
      "execution_count": 21,
      "outputs": [
        {
          "output_type": "stream",
          "name": "stdout",
          "text": [
            "{'a': 2, 'm': 1, 'i': 2, 'r': 1, 'l': 1}\n"
          ]
        },
        {
          "output_type": "execute_result",
          "data": {
            "text/plain": [
              "'m'"
            ],
            "application/vnd.google.colaboratory.intrinsic+json": {
              "type": "string"
            }
          },
          "metadata": {},
          "execution_count": 21
        }
      ]
    },
    {
      "cell_type": "markdown",
      "source": [
        "last_unique_character???"
      ],
      "metadata": {
        "id": "q4voOhvzfkaZ"
      }
    },
    {
      "cell_type": "code",
      "source": [
        "s = 'amirali'\n",
        "def last_unique_ch(s):\n",
        "  dic = {i:s.count(i) for i in s}\n",
        "  print(dic)\n",
        "  # for key in dic.keys():\n",
        "  #   x = dic.pop(key)\n",
        "  #   print('x',x)\n",
        "    # if dic[key]==1:\n",
        "    #   return key\n",
        "\n",
        "\n",
        "\n",
        "last_unique_ch(s)"
      ],
      "metadata": {
        "id": "11WPNRzOfopx"
      },
      "execution_count": null,
      "outputs": []
    },
    {
      "cell_type": "markdown",
      "source": [
        "Rooman numbers:\\\n",
        "IV:4\\\n",
        "VI:6\\\n",
        "IVI:5\\\n",
        "VIV:9\\\n",
        "XL:40\\\n",
        "LX:60\\\n",
        "XLLX:100\\\n",
        "VIVXL:49\\\n",
        "MMC:2100\\\n",
        "MCM:1900\\\n",
        "CM:900\\\n",
        "MMCX: 2110\\\n",
        "MMCD:2400\\\n"
      ],
      "metadata": {
        "id": "bYM_JBrKzs7l"
      }
    },
    {
      "cell_type": "code",
      "source": [
        "d = {\n",
        "    \"I\":1,\n",
        "    \"V\": 5,\n",
        "    \"X\": 10,\n",
        "    \"L\": 50,\n",
        "    \"C\": 100,\n",
        "    \"D\": 500,\n",
        "    \"M\": 1000\n",
        "}\n",
        "lst = []\n",
        "def Roman(s):\n",
        "  t = 0\n",
        "  i = 0\n",
        "  while i < len(s):\n",
        "    if i +1 < len(s) and  d[s[i]]< d[s[i+1]]:\n",
        "      t += d[s[i+1]] - d[s[i]]\n",
        "      i += 2\n",
        "    else:\n",
        "      t += d[s[i]]\n",
        "      i += 1\n",
        "  return t\n",
        "\n",
        "s = 'IVI'\n",
        "Roman(s)\n"
      ],
      "metadata": {
        "colab": {
          "base_uri": "https://localhost:8080/"
        },
        "id": "IWcH-sXbzzuu",
        "outputId": "ef0a3214-fab7-4a59-867c-d6edfe3ed0f0"
      },
      "execution_count": 73,
      "outputs": [
        {
          "output_type": "execute_result",
          "data": {
            "text/plain": [
              "5"
            ]
          },
          "metadata": {},
          "execution_count": 73
        }
      ]
    },
    {
      "cell_type": "markdown",
      "source": [
        "Confusion Number\\\n",
        "turn numbers 180 degree, and replace them from last to first"
      ],
      "metadata": {
        "id": "HChwa74NW9-n"
      }
    },
    {
      "cell_type": "code",
      "source": [
        "lst1 = []\n",
        "d = {\n",
        "    '1':'1',\n",
        "    '6':'9',\n",
        "    '8':'8',\n",
        "    '9':'6',\n",
        "    '0':'0',\n",
        "}\n",
        "def Confusion_Num(n):\n",
        "  s = str(n)\n",
        "  for i in s[::-1]:\n",
        "  #   lst.append(i)\n",
        "  # a = ''.join(lst)\n",
        "  # for i in a:\n",
        "    if i not in d:\n",
        "      return False\n",
        "    else:\n",
        "      lst1.append(d[i])\n",
        "  return ''.join(lst1)\n",
        "n = 10981\n",
        "Confusion_Num(n)"
      ],
      "metadata": {
        "colab": {
          "base_uri": "https://localhost:8080/",
          "height": 36
        },
        "id": "XdGqhYOMXAnl",
        "outputId": "7a59472b-a939-46f3-d5f5-965277951292"
      },
      "execution_count": 95,
      "outputs": [
        {
          "output_type": "execute_result",
          "data": {
            "text/plain": [
              "'18601'"
            ],
            "application/vnd.google.colaboratory.intrinsic+json": {
              "type": "string"
            }
          },
          "metadata": {},
          "execution_count": 95
        }
      ]
    },
    {
      "cell_type": "markdown",
      "source": [
        "Anagram mapping\\\n",
        "finding a location of items in a list on the second list"
      ],
      "metadata": {
        "id": "VXV4ydoriVmK"
      }
    },
    {
      "cell_type": "code",
      "source": [
        "a = [20,10,0,9,15]\n",
        "b = [15,9,10,20,0]\n",
        "lst = []\n",
        "d = {i:b.index(i) for i in b}\n",
        "print(d)\n",
        "for i in a:\n",
        "  print(i, d[i])\n",
        "  lst.append(d[i])\n",
        "lst"
      ],
      "metadata": {
        "colab": {
          "base_uri": "https://localhost:8080/"
        },
        "id": "P2J0ZbeUieeI",
        "outputId": "1c4141fb-01ad-4e72-c2ff-e931be2509f3"
      },
      "execution_count": 100,
      "outputs": [
        {
          "output_type": "stream",
          "name": "stdout",
          "text": [
            "{15: 0, 9: 1, 10: 2, 20: 3, 0: 4}\n",
            "20 3\n",
            "10 2\n",
            "0 4\n",
            "9 1\n",
            "15 0\n"
          ]
        },
        {
          "output_type": "execute_result",
          "data": {
            "text/plain": [
              "[3, 2, 4, 1, 0]"
            ]
          },
          "metadata": {},
          "execution_count": 100
        }
      ]
    },
    {
      "cell_type": "markdown",
      "source": [
        "second solution"
      ],
      "metadata": {
        "id": "8DuYcSSJnBep"
      }
    },
    {
      "cell_type": "code",
      "source": [
        "d = {}\n",
        "for i, x in enumerate(b):\n",
        "  d[x] = i\n",
        "[d[i] for i in a]"
      ],
      "metadata": {
        "colab": {
          "base_uri": "https://localhost:8080/"
        },
        "id": "yWsjMlYknEvv",
        "outputId": "d21992a1-6d95-4d33-9625-4a0a40741e24"
      },
      "execution_count": 105,
      "outputs": [
        {
          "output_type": "execute_result",
          "data": {
            "text/plain": [
              "[3, 2, 4, 1, 0]"
            ]
          },
          "metadata": {},
          "execution_count": 105
        }
      ]
    }
  ]
}