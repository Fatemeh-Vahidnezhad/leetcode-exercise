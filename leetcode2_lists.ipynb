{
  "nbformat": 4,
  "nbformat_minor": 0,
  "metadata": {
    "colab": {
      "provenance": [],
      "authorship_tag": "ABX9TyOcYEbwSeNcGeCxTiPDL3eY",
      "include_colab_link": true
    },
    "kernelspec": {
      "name": "python3",
      "display_name": "Python 3"
    },
    "language_info": {
      "name": "python"
    }
  },
  "cells": [
    {
      "cell_type": "markdown",
      "metadata": {
        "id": "view-in-github",
        "colab_type": "text"
      },
      "source": [
        "<a href=\"https://colab.research.google.com/github/Fatemeh-Vahidnezhad/leetcode-exercise/blob/main/leetcode2_lists.ipynb\" target=\"_parent\"><img src=\"https://colab.research.google.com/assets/colab-badge.svg\" alt=\"Open In Colab\"/></a>"
      ]
    },
    {
      "cell_type": "markdown",
      "source": [
        "remove digit and return bigger number\n"
      ],
      "metadata": {
        "id": "E9d-Azkt7J4q"
      }
    },
    {
      "cell_type": "code",
      "source": [
        "def remove_digit (n, digit):\n",
        "  lst = []\n",
        "  lst1=[]\n",
        "  for i in range(0, len(n)):\n",
        "    while n[i] == digit:\n",
        "      lst.append(n[:i] + n[i+1:])\n",
        "      i+=1\n",
        "  # covert string to int:\n",
        "  for i in lst:\n",
        "    lst1.append(int(i))\n",
        "  return max(lst1)"
      ],
      "metadata": {
        "id": "2d4Dh_u-7IQ-"
      },
      "execution_count": null,
      "outputs": []
    },
    {
      "cell_type": "code",
      "source": [
        "n = '1234267'\n",
        "digit = '2'\n",
        "remove_digit(n, digit)"
      ],
      "metadata": {
        "colab": {
          "base_uri": "https://localhost:8080/"
        },
        "id": "AMNRNCP77YUc",
        "outputId": "d430681c-f9c3-4926-d56a-236a83311ffc"
      },
      "execution_count": null,
      "outputs": [
        {
          "output_type": "stream",
          "name": "stdout",
          "text": [
            "['134267', '123467']\n"
          ]
        },
        {
          "output_type": "execute_result",
          "data": {
            "text/plain": [
              "134267"
            ]
          },
          "metadata": {},
          "execution_count": 63
        }
      ]
    },
    {
      "cell_type": "markdown",
      "source": [
        "Is palindrom?"
      ],
      "metadata": {
        "id": "xMBum__qLigW"
      }
    },
    {
      "cell_type": "code",
      "source": [
        "def palindrom(s):\n",
        "  a = list(s)\n",
        "  n = len(a)\n",
        "  for i in range(0, n):\n",
        "    if a[i] == a[n-i-1]:\n",
        "      return True\n",
        "    else:\n",
        "      return False\n",
        "\n",
        "print(palindrom('radar'))"
      ],
      "metadata": {
        "colab": {
          "base_uri": "https://localhost:8080/"
        },
        "id": "r0CbDfEBLlIF",
        "outputId": "96b08789-7ffd-43fd-fd9b-76e48f78d4aa"
      },
      "execution_count": null,
      "outputs": [
        {
          "output_type": "stream",
          "name": "stdout",
          "text": [
            "True\n"
          ]
        }
      ]
    },
    {
      "cell_type": "markdown",
      "source": [
        "second solution"
      ],
      "metadata": {
        "id": "-bZ-94ikbUaq"
      }
    },
    {
      "cell_type": "code",
      "source": [
        "def palindrom(s):\n",
        "  a = list(s)\n",
        "  if a == a[::-1]:\n",
        "    return True\n",
        "  else:\n",
        "    return False\n",
        "palindrom('amir')"
      ],
      "metadata": {
        "colab": {
          "base_uri": "https://localhost:8080/"
        },
        "id": "pTn_IGiSbWWq",
        "outputId": "1e4f1ba0-36e5-4ce2-8899-be0a99b5e9dd"
      },
      "execution_count": null,
      "outputs": [
        {
          "output_type": "execute_result",
          "data": {
            "text/plain": [
              "False"
            ]
          },
          "metadata": {},
          "execution_count": 86
        }
      ]
    },
    {
      "cell_type": "markdown",
      "source": [
        "lower case with lambda and map\n"
      ],
      "metadata": {
        "id": "slIGPw-ed0HZ"
      }
    },
    {
      "cell_type": "code",
      "source": [
        "s = ['a', 'B']\n",
        "lowercase = lambda ch : ch.lower()\n",
        "m = map(lowercase, s)\n",
        "list(m)"
      ],
      "metadata": {
        "colab": {
          "base_uri": "https://localhost:8080/"
        },
        "id": "SRmwwjaqcPoD",
        "outputId": "e9dca648-58fa-4681-9224-4416fad42d15"
      },
      "execution_count": null,
      "outputs": [
        {
          "output_type": "execute_result",
          "data": {
            "text/plain": [
              "['a', 'b']"
            ]
          },
          "metadata": {},
          "execution_count": 85
        }
      ]
    },
    {
      "cell_type": "code",
      "source": [
        "def palindrom(s):\n",
        "  a = list(s)\n",
        "  lowercase = lambda ch : ch.lower()\n",
        "  m = map(lowercase, a)\n",
        "  m = list(m)\n",
        "  if m == m[::-1]:\n",
        "    return True\n",
        "  else:\n",
        "    return False\n",
        "palindrom('Radar')"
      ],
      "metadata": {
        "colab": {
          "base_uri": "https://localhost:8080/"
        },
        "id": "Aus7POtKd-bE",
        "outputId": "b889ed38-05a0-424d-8bdc-944e7f9fb7e8"
      },
      "execution_count": null,
      "outputs": [
        {
          "output_type": "execute_result",
          "data": {
            "text/plain": [
              "True"
            ]
          },
          "metadata": {},
          "execution_count": 88
        }
      ]
    },
    {
      "cell_type": "markdown",
      "source": [
        "just survay numberic and alpha characters in the list:\n",
        "\n"
      ],
      "metadata": {
        "id": "uLdLDWeZfGo4"
      }
    },
    {
      "cell_type": "code",
      "source": [
        "s = 'Ra# dar@'\n",
        "lam = lambda ch : ch.isalnum()\n",
        "f = filter(lam, s)\n",
        "lam2 = lambda ch : ch.lower()\n",
        "m = map(lam2, f)\n",
        "list(m)"
      ],
      "metadata": {
        "colab": {
          "base_uri": "https://localhost:8080/"
        },
        "id": "2JP1TfF0fN3X",
        "outputId": "3000d17f-3c6f-4f73-e469-8d1c5e35f36c"
      },
      "execution_count": null,
      "outputs": [
        {
          "output_type": "execute_result",
          "data": {
            "text/plain": [
              "['r', 'a', 'd', 'a', 'r']"
            ]
          },
          "metadata": {},
          "execution_count": 99
        }
      ]
    },
    {
      "cell_type": "markdown",
      "source": [
        "reverse string\n"
      ],
      "metadata": {
        "id": "A2dMbHVJmWV8"
      }
    },
    {
      "cell_type": "code",
      "source": [
        "s = 'adidas'\n",
        "n = len(s)\n",
        "lst = []\n",
        "for i in range(n):\n",
        "  lst.append(s[n-i-1])\n",
        "''.join(lst)"
      ],
      "metadata": {
        "colab": {
          "base_uri": "https://localhost:8080/",
          "height": 35
        },
        "id": "8yW1StgYmYDM",
        "outputId": "ecd9a5a4-e117-42cb-cebf-033fcf0c8056"
      },
      "execution_count": null,
      "outputs": [
        {
          "output_type": "execute_result",
          "data": {
            "text/plain": [
              "'sadida'"
            ],
            "application/vnd.google.colaboratory.intrinsic+json": {
              "type": "string"
            }
          },
          "metadata": {},
          "execution_count": 106
        }
      ]
    },
    {
      "cell_type": "markdown",
      "source": [
        "second solution : recursive functions:"
      ],
      "metadata": {
        "id": "mhleUDQho_ZS"
      }
    },
    {
      "cell_type": "code",
      "source": [
        "def recursive_S(s):\n",
        "  def h(low, high):\n",
        "    if low < high:\n",
        "      s[low], s[high] = s[high], s[low]\n",
        "      h(low +1 , high - 1)\n",
        "  return h(0, len(s)-1)\n",
        "a = 'dadasc'\n",
        "s = list(a)\n",
        "recursive_S(s)\n",
        "print(s)"
      ],
      "metadata": {
        "colab": {
          "base_uri": "https://localhost:8080/"
        },
        "id": "KtAideQVpEGi",
        "outputId": "6fbcde7b-0bb0-4f70-8214-ebd537647cac"
      },
      "execution_count": null,
      "outputs": [
        {
          "output_type": "stream",
          "name": "stdout",
          "text": [
            "['c', 's', 'a', 'd', 'a', 'd']\n"
          ]
        }
      ]
    },
    {
      "cell_type": "markdown",
      "source": [
        "Two Sum"
      ],
      "metadata": {
        "id": "bfdvRbKltAzw"
      }
    },
    {
      "cell_type": "code",
      "source": [
        "def TwoSum(s, sum):\n",
        "  for i in range(len(s)):\n",
        "    for j in range(i):\n",
        "      if s[i]+s[j] == sum:\n",
        "        print(s[i], s[j])\n",
        "\n",
        "s = [0,1,4,6,7,4,2,5]\n",
        "TwoSum(s,7)"
      ],
      "metadata": {
        "colab": {
          "base_uri": "https://localhost:8080/"
        },
        "id": "vtNQ8Mv4tEFg",
        "outputId": "bcc299dc-94f6-4775-adcf-b76c57c7bceb"
      },
      "execution_count": null,
      "outputs": [
        {
          "output_type": "stream",
          "name": "stdout",
          "text": [
            "6 1\n",
            "7 0\n",
            "5 2\n"
          ]
        }
      ]
    },
    {
      "cell_type": "markdown",
      "source": [
        "second solution"
      ],
      "metadata": {
        "id": "o859FXTEMDMr"
      }
    },
    {
      "cell_type": "code",
      "source": [
        "def TwoSum1(s, sum):\n",
        "  for i in range(len(s)):\n",
        "    for j in range(i+1, len(s)):\n",
        "      if s[i]+s[j] == sum:\n",
        "        print(s[i], s[j])\n",
        "\n",
        "s = [0,1,4,6,7,4,2,5]\n",
        "TwoSum1(s,7)"
      ],
      "metadata": {
        "colab": {
          "base_uri": "https://localhost:8080/"
        },
        "id": "B0-OeL50MFbQ",
        "outputId": "419c97bd-bc40-4b22-8614-85abb11c4ade"
      },
      "execution_count": null,
      "outputs": [
        {
          "output_type": "stream",
          "name": "stdout",
          "text": [
            "0 7\n",
            "1 6\n",
            "2 5\n"
          ]
        }
      ]
    },
    {
      "cell_type": "markdown",
      "source": [
        "fizz buzz"
      ],
      "metadata": {
        "id": "m7v2Y0E8OK1e"
      }
    },
    {
      "cell_type": "code",
      "source": [
        "def fizzbuzz(n):\n",
        "  for i in range(1, n+1):\n",
        "    if i % 3 == 0 and i % 5 == 0 :\n",
        "      print('fizz buzz', end = ', ')\n",
        "    elif i % 3 == 0 :\n",
        "      print('fizz', end = ', ')\n",
        "    elif i % 5 == 0:\n",
        "      print ('buzz', end = ', ')\n",
        "    else :\n",
        "      print(i, end = ', ')\n",
        "\n",
        "fizzbuzz(15)"
      ],
      "metadata": {
        "colab": {
          "base_uri": "https://localhost:8080/"
        },
        "id": "T1mGLQF1OMXH",
        "outputId": "fbb1c1c8-5b91-41a9-b1f8-ef3215084a4b"
      },
      "execution_count": null,
      "outputs": [
        {
          "output_type": "stream",
          "name": "stdout",
          "text": [
            "1, 2, fizz, 4, buzz, fizz, 7, 8, fizz, buzz, 11, fizz, 13, 14, fizz buzz, "
          ]
        }
      ]
    },
    {
      "cell_type": "markdown",
      "source": [
        "second solution"
      ],
      "metadata": {
        "id": "kd0xHO36P-4F"
      }
    },
    {
      "cell_type": "code",
      "source": [
        "def fizzbuzz(n):\n",
        "  lst = []\n",
        "  for i in range(1, n+1):\n",
        "    if i % 3 == 0 and i %5 == 0 :\n",
        "      lst.append('fizz buzz')\n",
        "    elif i % 3 == 0 :\n",
        "      lst.append('fizz')\n",
        "    elif i % 5 == 0:\n",
        "      lst.append('buzz')\n",
        "    else :\n",
        "      lst.append(i)\n",
        "  return lst\n",
        "\n",
        "\n",
        "fizzbuzz(15)"
      ],
      "metadata": {
        "colab": {
          "base_uri": "https://localhost:8080/"
        },
        "id": "7LhRHnM7P96k",
        "outputId": "a3c09338-3df0-4a13-dd4c-00e3231b9a2d"
      },
      "execution_count": null,
      "outputs": [
        {
          "output_type": "execute_result",
          "data": {
            "text/plain": [
              "[1,\n",
              " 2,\n",
              " 'fizz',\n",
              " 4,\n",
              " 'buzz',\n",
              " 'fizz',\n",
              " 7,\n",
              " 8,\n",
              " 'fizz',\n",
              " 'buzz',\n",
              " 11,\n",
              " 'fizz',\n",
              " 13,\n",
              " 14,\n",
              " 'fizz buzz']"
            ]
          },
          "metadata": {},
          "execution_count": 16
        }
      ]
    },
    {
      "cell_type": "markdown",
      "source": [
        "Pascal's Triangle\\\n",
        "1\\\n",
        "1 1\\\n",
        "1 2 1\\\n",
        "1 3 3 1\\\n",
        "1 4 6 4 1\\\n",
        "15 10 10 5 1\\\n",
        "\\"
      ],
      "metadata": {
        "id": "-SB9cGOqTHcD"
      }
    },
    {
      "cell_type": "code",
      "source": [
        "def PascalTriangle(n):   # n is the number of rows\n",
        "  lst = []\n",
        "  for r in range(1, n):\n",
        "    row = [None for i in range(1, n+1)]\n",
        "    row[0] = row[-1] =1\n",
        "    for j in range(1, n-1):\n",
        "      row[j]= lst[r-1][j-1] + lst[r-1][j]\n",
        "  lst.append(row)\n",
        "  print(lst)\n",
        "PascalTriangle(3)"
      ],
      "metadata": {
        "colab": {
          "base_uri": "https://localhost:8080/"
        },
        "id": "v5J7NoQdTKqm",
        "outputId": "3bbca8cb-7f7d-4ee1-97ac-2f8e01580fd9"
      },
      "execution_count": null,
      "outputs": [
        {
          "output_type": "stream",
          "name": "stdout",
          "text": [
            "[[1, None, 1]]\n"
          ]
        }
      ]
    },
    {
      "cell_type": "markdown",
      "source": [
        "Single Number"
      ],
      "metadata": {
        "id": "N7uWOc0RjpqO"
      }
    },
    {
      "cell_type": "markdown",
      "source": [
        "این روش استاده که غلطه"
      ],
      "metadata": {
        "id": "c_6lm72hSZRt"
      }
    },
    {
      "cell_type": "code",
      "source": [
        "x = [12,13,12,13,10,9 ,13]\n",
        "lst1 = []\n",
        "for i in x:\n",
        "  if i not in lst1:\n",
        "    lst1.append(i)\n",
        "  else:\n",
        "    lst1.remove(i)\n",
        "\n",
        "lst1"
      ],
      "metadata": {
        "colab": {
          "base_uri": "https://localhost:8080/"
        },
        "id": "KhyZkw7VjrWg",
        "outputId": "be23077c-857e-408a-f528-2b823c671a1a"
      },
      "execution_count": null,
      "outputs": [
        {
          "output_type": "execute_result",
          "data": {
            "text/plain": [
              "[10, 9, 13]"
            ]
          },
          "metadata": {},
          "execution_count": 107
        }
      ]
    },
    {
      "cell_type": "markdown",
      "source": [
        "روش درست اینه:"
      ],
      "metadata": {
        "id": "Ldvcb2seScYf"
      }
    },
    {
      "cell_type": "code",
      "source": [
        "x = [12,13,12,13,10,9,13]\n",
        "lst = []\n",
        "for i in x:\n",
        "  y = x.pop()\n",
        "  if y not in x:\n",
        "    lst.append(y)\n",
        "\n",
        "lst"
      ],
      "metadata": {
        "colab": {
          "base_uri": "https://localhost:8080/"
        },
        "id": "msApOXToKh64",
        "outputId": "05f6a203-a515-405f-ce8a-871f0e0c87d4"
      },
      "execution_count": null,
      "outputs": [
        {
          "output_type": "execute_result",
          "data": {
            "text/plain": [
              "[9, 10]"
            ]
          },
          "metadata": {},
          "execution_count": 125
        }
      ]
    },
    {
      "cell_type": "markdown",
      "source": [
        "remove duplicates of a list"
      ],
      "metadata": {
        "id": "uNbbFJha5Y4L"
      }
    },
    {
      "cell_type": "code",
      "source": [
        "lst = [12,13,12,13,13,10,9,12]\n",
        "lst1 = []\n",
        "for i in range(len(lst)):\n",
        "  if lst[i] not in lst1:\n",
        "    lst1.append(lst[i])\n",
        "\n",
        "lst1"
      ],
      "metadata": {
        "colab": {
          "base_uri": "https://localhost:8080/"
        },
        "id": "_fNb-rPYz6IM",
        "outputId": "a4113d4f-7bc6-4ee4-e0d0-12e996e436bb"
      },
      "execution_count": null,
      "outputs": [
        {
          "output_type": "execute_result",
          "data": {
            "text/plain": [
              "[12, 13, 10, 9]"
            ]
          },
          "metadata": {},
          "execution_count": 122
        }
      ]
    },
    {
      "cell_type": "markdown",
      "source": [
        "SumZero\\\n",
        "n = 1 -> [0]\\\n",
        "n = 2 -> [-1,1]\\\n",
        "n = 3 -> [-1,1,0]\\\n",
        "n = 4 -> [-2,-1,1,2]\\\n",
        "n = 5 -> [-2,-1,1,2,0]\\\n",
        "n = 6 -> [-3,-2,-1,1,2,3]\\\n",
        "n = 7 -> [-3,-2,-1,1,2,3,0]\\\n",
        "\n"
      ],
      "metadata": {
        "id": "MPoPfU6813tK"
      }
    },
    {
      "cell_type": "code",
      "source": [
        "def SumZero(n):\n",
        "  lst = []\n",
        "  if n % 2 == 0:\n",
        "    a = n/2\n",
        "    for i in range(int(a)):\n",
        "      lst.append(i+1)\n",
        "      lst.append(-1*(i+1))\n",
        "    return lst\n",
        "  else:\n",
        "    a = n/2\n",
        "    for i in range(int(a)):\n",
        "      lst.append(i+1)\n",
        "      lst.append(-1*(i+1))\n",
        "    lst.append(0)\n",
        "    return lst\n",
        "\n",
        "\n",
        "SumZero(7)\n"
      ],
      "metadata": {
        "colab": {
          "base_uri": "https://localhost:8080/"
        },
        "id": "OYxdUWxe165T",
        "outputId": "53f8bc80-3c05-414f-aa6e-3b589edfe76a"
      },
      "execution_count": null,
      "outputs": [
        {
          "output_type": "execute_result",
          "data": {
            "text/plain": [
              "[1, -1, 2, -2, 3, -3, 0]"
            ]
          },
          "metadata": {},
          "execution_count": 14
        }
      ]
    },
    {
      "cell_type": "markdown",
      "source": [
        "sign of product of an array:\\\n",
        "x = [0,1,4,5]--> 0\\\n",
        "x = [1,-1,-2,4] -- > +1\\\n",
        "x = [-1,6,4,5,3] --> 1\\\n"
      ],
      "metadata": {
        "id": "LcByqZOZkZtx"
      }
    },
    {
      "cell_type": "code",
      "source": [
        "def arraySign(x):\n",
        "  a = 1\n",
        "  if 0 in x:\n",
        "    return 0\n",
        "  for i in x:\n",
        "    a *= i\n",
        "    # print(a)\n",
        "  if a<0:\n",
        "    return -1\n",
        "  return 1\n",
        "x = [10,-1,-3,-5]\n",
        "arraySign(x)"
      ],
      "metadata": {
        "colab": {
          "base_uri": "https://localhost:8080/"
        },
        "id": "Mi2-vaTlkwjE",
        "outputId": "89ee9353-5187-4386-b432-b7f4b7c3cb4e"
      },
      "execution_count": null,
      "outputs": [
        {
          "output_type": "execute_result",
          "data": {
            "text/plain": [
              "-1"
            ]
          },
          "metadata": {},
          "execution_count": 24
        }
      ]
    },
    {
      "cell_type": "markdown",
      "source": [
        "second solution"
      ],
      "metadata": {
        "id": "iJrpNH0Lolik"
      }
    },
    {
      "cell_type": "code",
      "source": [
        "x = [-10,-1,-3,-5]\n",
        "def arraySign2(x):\n",
        "  for i in x:\n",
        "    if i == 0:\n",
        "      return 0\n",
        "  if sum(i<0 for i in x)%2:\n",
        "    return -1\n",
        "  return 1\n",
        "arraySign2(x)"
      ],
      "metadata": {
        "colab": {
          "base_uri": "https://localhost:8080/"
        },
        "id": "BLPleup2okqi",
        "outputId": "da1e927f-fc14-41bb-9865-6ecef4ca05ba"
      },
      "execution_count": null,
      "outputs": [
        {
          "output_type": "execute_result",
          "data": {
            "text/plain": [
              "1"
            ]
          },
          "metadata": {},
          "execution_count": 29
        }
      ]
    },
    {
      "cell_type": "markdown",
      "source": [
        "Missing Number\\\n",
        "x = [2,0,1,4] --> 3\n"
      ],
      "metadata": {
        "id": "S7SD16cQpqBe"
      }
    },
    {
      "cell_type": "code",
      "source": [
        "x = [2,0,1, 9, 4]\n",
        "lst = []\n",
        "def MissingNumber(x):\n",
        "  x.sort()\n",
        "  print(x)\n",
        "  for i in range(len(x)):\n",
        "    if x[i] - x[i-1] > 1:\n",
        "      for j in range(x[i-1]+1, x[i]):\n",
        "        x.append(j)\n",
        "  return x\n",
        "y = MissingNumber(x)\n",
        "print(y)\n"
      ],
      "metadata": {
        "colab": {
          "base_uri": "https://localhost:8080/"
        },
        "id": "VmZr0KKipsYs",
        "outputId": "56b25434-67e6-48e9-e068-eddc5cf51dd7"
      },
      "execution_count": null,
      "outputs": [
        {
          "output_type": "stream",
          "name": "stdout",
          "text": [
            "[0, 1, 2, 4, 9]\n",
            "[0, 1, 2, 4, 9, 3, 5, 6, 7, 8]\n"
          ]
        }
      ]
    },
    {
      "cell_type": "markdown",
      "source": [
        "merge two lists"
      ],
      "metadata": {
        "id": "x9p42EOH82Fi"
      }
    },
    {
      "cell_type": "code",
      "source": [
        "x = [1,2,3,4,5]\n",
        "y = [0,6,7,8,9,10]\n",
        "n = len(y)\n",
        "m = len(x)\n",
        "for i in y:\n",
        "  x.append(i)\n",
        "print(x)"
      ],
      "metadata": {
        "colab": {
          "base_uri": "https://localhost:8080/"
        },
        "id": "g2P-g3Pw86D3",
        "outputId": "d3d413a0-9423-489e-d0c4-ed020ef4b34e"
      },
      "execution_count": null,
      "outputs": [
        {
          "output_type": "stream",
          "name": "stdout",
          "text": [
            "[1, 2, 3, 4, 5, 0, 6, 7, 8, 9, 10]\n"
          ]
        }
      ]
    },
    {
      "cell_type": "markdown",
      "source": [
        "Sublist with sum of digit"
      ],
      "metadata": {
        "id": "gibRRJe8Laqs"
      }
    },
    {
      "cell_type": "markdown",
      "source": [],
      "metadata": {
        "id": "FIA76Dw7KU5J"
      }
    },
    {
      "cell_type": "code",
      "source": [
        "x = [3,1,2,7,4,2,2,1,5]\n",
        "digit = 9\n",
        "def find_sublist(x, digit):\n",
        "  lst = []\n",
        "  for i in x:\n",
        "    lst.append(i)\n",
        "    while sum(j for j in lst) > digit:\n",
        "      lst.remove(lst[0])\n",
        "    if sum(j for j in lst) == digit:\n",
        "      print(lst)"
      ],
      "metadata": {
        "id": "9gSyRknqLd7y"
      },
      "execution_count": null,
      "outputs": []
    },
    {
      "cell_type": "code",
      "source": [
        "find_sublist(x,digit)"
      ],
      "metadata": {
        "colab": {
          "base_uri": "https://localhost:8080/"
        },
        "id": "mmk20dNgMneJ",
        "outputId": "760e4ccb-d591-4267-c4be-2edae9f06e7f"
      },
      "execution_count": null,
      "outputs": [
        {
          "output_type": "stream",
          "name": "stdout",
          "text": [
            "[2, 7]\n",
            "[4, 2, 2, 1]\n"
          ]
        }
      ]
    },
    {
      "cell_type": "markdown",
      "source": [
        "buy stock on minimum  and buy it on max day, each number shows the price of stock on every day"
      ],
      "metadata": {
        "id": "SNxvcDqNweW9"
      }
    },
    {
      "cell_type": "code",
      "source": [
        "x = [7,1,3,0,5,6,9,12,3]\n",
        "def MaxProfit(x):\n",
        "  max_profit = 0\n",
        "  min = float('inf')\n",
        "  for i in x:\n",
        "    if i <= min:\n",
        "      min = i    # time of buying stock\n",
        "  for j in range(x.index(min)+1, len(x)):\n",
        "    profit = x[j]-min\n",
        "    if profit > max_profit:\n",
        "      max_profit = profit\n",
        "      max_rev = x[j]\n",
        "      date = x.index(max_rev)\n",
        "  return min, max_profit, max_rev, date+1\n",
        "MaxProfit(x)\n"
      ],
      "metadata": {
        "colab": {
          "base_uri": "https://localhost:8080/"
        },
        "id": "aHNoqy8kweov",
        "outputId": "ec17e969-19a3-42e7-87a3-257bf2f162a7"
      },
      "execution_count": null,
      "outputs": [
        {
          "output_type": "execute_result",
          "data": {
            "text/plain": [
              "(0, 12, 12, 8)"
            ]
          },
          "metadata": {},
          "execution_count": 169
        }
      ]
    },
    {
      "cell_type": "code",
      "source": [
        "lst = [3,2, 3]\n",
        "lst1 = []\n",
        "target = 6\n",
        "for i , x in enumerate(lst):\n",
        "  if target/2 == x:\n",
        "    lst1.append(i)\n",
        "lst1"
      ],
      "metadata": {
        "colab": {
          "base_uri": "https://localhost:8080/"
        },
        "id": "2Fv2MD0hl589",
        "outputId": "ab1b770b-458b-423f-b446-bb7b56a4ecf6"
      },
      "execution_count": null,
      "outputs": [
        {
          "output_type": "execute_result",
          "data": {
            "text/plain": [
              "[0, 2]"
            ]
          },
          "metadata": {},
          "execution_count": 11
        }
      ]
    },
    {
      "cell_type": "code",
      "source": [
        "\n",
        "def twoSum(nums, target):\n",
        "  lst = []\n",
        "  d = {i:nums.count(i) for i in nums}\n",
        "  for i, v in d.items():\n",
        "    if d[i] == 2 and target/2 == i:\n",
        "      dic = dict(enumerate(nums))\n",
        "      for k in dic:\n",
        "        return k\n",
        "\n",
        "\n",
        "  for i, x in enumerate(nums):\n",
        "    if x < target and target-x in nums[i+1]:\n",
        "      b = target-x\n",
        "      return i, nums.index(b)\n",
        "    if target /2 == x :\n",
        "      lst.append(i)\n",
        "  return lst\n",
        "nums = [3,3]\n",
        "twoSum(nums, target)"
      ],
      "metadata": {
        "colab": {
          "base_uri": "https://localhost:8080/"
        },
        "id": "jyoCPDfrsIIW",
        "outputId": "b6da29cb-0a26-47f4-93d0-30c3fcd1d2f2"
      },
      "execution_count": null,
      "outputs": [
        {
          "output_type": "execute_result",
          "data": {
            "text/plain": [
              "[0, 1]"
            ]
          },
          "metadata": {},
          "execution_count": 26
        }
      ]
    },
    {
      "cell_type": "markdown",
      "source": [
        "Two Sum, accepted on leedcode site\n"
      ],
      "metadata": {
        "id": "LBnwDodEmA4V"
      }
    },
    {
      "cell_type": "code",
      "source": [
        "nums = [-2,-3,-5,-8,0,-1]\n",
        "target = -8\n",
        "lst1 = []\n",
        "lst2 = []\n",
        "def test(nums, target):\n",
        "  d = dict(enumerate(nums))\n",
        "  for k in d:\n",
        "    if d[k] == target/2 and len(set(nums))< len(nums):\n",
        "      lst2.append(k)\n",
        "\n",
        "    elif d[k] == target/2 and len(set(nums))== len(nums):\n",
        "      d[k] = 0\n",
        "\n",
        "    elif target - d[k] in nums:\n",
        "      lst1.append(d[k])\n",
        "      lst1.append(target-d[k])\n",
        "\n",
        "  for i in set(lst1):\n",
        "    lst2.append(nums.index(i))\n",
        "\n",
        "  return lst2\n",
        "test(nums, target)"
      ],
      "metadata": {
        "colab": {
          "base_uri": "https://localhost:8080/"
        },
        "id": "C11DzQJcvhBP",
        "outputId": "dbbbbb51-9ef4-4924-f6ee-01051a7287ae"
      },
      "execution_count": null,
      "outputs": [
        {
          "output_type": "execute_result",
          "data": {
            "text/plain": [
              "[3, 4, 2, 1]"
            ]
          },
          "metadata": {},
          "execution_count": 81
        }
      ]
    },
    {
      "cell_type": "code",
      "source": [
        "nums = [0,3,1,13]\n",
        "s = set(nums)\n",
        "if len(set(nums))< len(nums):\n",
        "  print('d')\n",
        "d = dict(enumerate(nums))\n",
        "for k in d:\n",
        "  print(d[k])"
      ],
      "metadata": {
        "colab": {
          "base_uri": "https://localhost:8080/"
        },
        "id": "8YQRObgNeOzQ",
        "outputId": "4c39426e-3ecd-44ae-9a37-435360a584ec"
      },
      "execution_count": null,
      "outputs": [
        {
          "output_type": "stream",
          "name": "stdout",
          "text": [
            "0\n",
            "3\n",
            "1\n",
            "13\n"
          ]
        }
      ]
    },
    {
      "cell_type": "code",
      "source": [
        "x = 123\n",
        "s = str(x)\n",
        "lst = list(s)\n",
        "lst1 = []\n",
        "while lst:\n",
        "  i = lst.pop()\n",
        "  lst1.append(i)\n",
        "a = ''.join(lst1)\n",
        "print(a)"
      ],
      "metadata": {
        "colab": {
          "base_uri": "https://localhost:8080/"
        },
        "id": "rUpGZ5ec1dzY",
        "outputId": "2cf7f5ee-8e48-46f9-8f2f-1b2a713007ba"
      },
      "execution_count": null,
      "outputs": [
        {
          "output_type": "stream",
          "name": "stdout",
          "text": [
            "\n"
          ]
        }
      ]
    },
    {
      "cell_type": "markdown",
      "source": [
        "Reverse Integer"
      ],
      "metadata": {
        "id": "2mXJUEP5QQJQ"
      }
    },
    {
      "cell_type": "code",
      "source": [
        "\n",
        "def reverse(x):\n",
        "  s = str(x)\n",
        "  lst = list(s)\n",
        "  lst1 = []\n",
        "  while lst:\n",
        "      i = lst.pop()\n",
        "      if i.isnumeric():\n",
        "        lst1.append(i)\n",
        "  a = ''.join(lst1)\n",
        "  if x<0 and int(a)* -1 <0 and int(a)* -1 >= -2**31:\n",
        "    return int(a)*-1\n",
        "  elif x>0 and int(a)>0 and int(a) < 2**31 -1:\n",
        "    return int(a)\n",
        "  else:\n",
        "    return 0\n",
        "reverse(-1534236469)"
      ],
      "metadata": {
        "colab": {
          "base_uri": "https://localhost:8080/"
        },
        "id": "z396ue564AeH",
        "outputId": "c43c38bc-eb40-49e3-d601-d66f8a246c48"
      },
      "execution_count": null,
      "outputs": [
        {
          "output_type": "execute_result",
          "data": {
            "text/plain": [
              "0"
            ]
          },
          "metadata": {},
          "execution_count": 130
        }
      ]
    }
  ]
}