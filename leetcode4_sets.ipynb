{
  "nbformat": 4,
  "nbformat_minor": 0,
  "metadata": {
    "colab": {
      "provenance": [],
      "authorship_tag": "ABX9TyMgwiGICTPipAdZFele+muL",
      "include_colab_link": true
    },
    "kernelspec": {
      "name": "python3",
      "display_name": "Python 3"
    },
    "language_info": {
      "name": "python"
    }
  },
  "cells": [
    {
      "cell_type": "markdown",
      "metadata": {
        "id": "view-in-github",
        "colab_type": "text"
      },
      "source": [
        "<a href=\"https://colab.research.google.com/github/Fatemeh-Vahidnezhad/leetcode-exercise/blob/main/leetcode4_sets.ipynb\" target=\"_parent\"><img src=\"https://colab.research.google.com/assets/colab-badge.svg\" alt=\"Open In Colab\"/></a>"
      ]
    },
    {
      "cell_type": "markdown",
      "source": [
        "Missing Numbers"
      ],
      "metadata": {
        "id": "y_P-VF4G6Mvx"
      }
    },
    {
      "cell_type": "code",
      "execution_count": 7,
      "metadata": {
        "colab": {
          "base_uri": "https://localhost:8080/"
        },
        "id": "ZNcK6_uu6GLE",
        "outputId": "259b8448-9920-4b5d-d3e6-b0421e078b9e"
      },
      "outputs": [
        {
          "output_type": "execute_result",
          "data": {
            "text/plain": [
              "[3, 4]"
            ]
          },
          "metadata": {},
          "execution_count": 7
        }
      ],
      "source": [
        "x = [0,1,5,2]\n",
        "n = len(x)\n",
        "lst = []\n",
        "for i in range(max(x)):\n",
        "  if i not in x:\n",
        "    lst.append(i)\n",
        "\n",
        "\n",
        "lst"
      ]
    },
    {
      "cell_type": "markdown",
      "source": [
        "Second solutions with sets:"
      ],
      "metadata": {
        "id": "VATTEkgi73gU"
      }
    },
    {
      "cell_type": "code",
      "source": [
        "y = set(x)\n",
        "# print(y)\n",
        "for i in range(max(y)):\n",
        "  if i not in y:\n",
        "    print(i)"
      ],
      "metadata": {
        "colab": {
          "base_uri": "https://localhost:8080/"
        },
        "id": "PuJ1Poyw765h",
        "outputId": "6165c986-f5cf-485d-98e7-e36d7da45221"
      },
      "execution_count": 10,
      "outputs": [
        {
          "output_type": "stream",
          "name": "stdout",
          "text": [
            "3\n",
            "4\n"
          ]
        }
      ]
    },
    {
      "cell_type": "markdown",
      "source": [
        "Single Number"
      ],
      "metadata": {
        "id": "2_2hEd889lhk"
      }
    },
    {
      "cell_type": "code",
      "source": [
        "x = [1,1,2,2,6,5,5,0,0]\n",
        "d = {i:x.count(i) for i in x}\n",
        "for key, value in d.items():\n",
        "  if d[key] == 1:\n",
        "    print(key)"
      ],
      "metadata": {
        "colab": {
          "base_uri": "https://localhost:8080/"
        },
        "id": "Yxo2tYkA9ooi",
        "outputId": "2d04851c-6602-437b-c9d0-60dddbac0e19"
      },
      "execution_count": 14,
      "outputs": [
        {
          "output_type": "stream",
          "name": "stdout",
          "text": [
            "6\n"
          ]
        }
      ]
    },
    {
      "cell_type": "markdown",
      "source": [
        "second solution with set"
      ],
      "metadata": {
        "id": "-g8h2ei5CHee"
      }
    },
    {
      "cell_type": "code",
      "source": [
        "x = [1,1,2,2,6,5,5,0,0]\n",
        "y = set(x)\n",
        "2*sum(y)-sum(x)"
      ],
      "metadata": {
        "colab": {
          "base_uri": "https://localhost:8080/"
        },
        "id": "15gVE_dzCL-_",
        "outputId": "21d0eca2-4aec-4599-e43b-1ecb2a0e3838"
      },
      "execution_count": 16,
      "outputs": [
        {
          "output_type": "execute_result",
          "data": {
            "text/plain": [
              "6"
            ]
          },
          "metadata": {},
          "execution_count": 16
        }
      ]
    },
    {
      "cell_type": "markdown",
      "source": [
        "longest common prefix"
      ],
      "metadata": {
        "id": "nYoW2lFpHa_i"
      }
    },
    {
      "cell_type": "code",
      "source": [
        "x = ['aabc', 'aacd', 'aalm', 'aalf']\n",
        "lst = []\n",
        "for i in zip(*x):\n",
        "  if len(set(i)) == 1:\n",
        "    lst.append(i[0])\n",
        "  else:\n",
        "    break\n",
        "''.join(lst)"
      ],
      "metadata": {
        "colab": {
          "base_uri": "https://localhost:8080/",
          "height": 36
        },
        "id": "459OesC6HfTB",
        "outputId": "97b6061b-c626-4cb9-c309-cd97d5d390cb"
      },
      "execution_count": 22,
      "outputs": [
        {
          "output_type": "execute_result",
          "data": {
            "text/plain": [
              "'aa'"
            ],
            "application/vnd.google.colaboratory.intrinsic+json": {
              "type": "string"
            }
          },
          "metadata": {},
          "execution_count": 22
        }
      ]
    },
    {
      "cell_type": "code",
      "source": [
        "x = ['aabc', 'aacd', 'aalm', 'aalf']\n",
        "for i in x:\n",
        "  # for j in range(len(i)):\n",
        "    # print(x[j])\n",
        "    print(set(i))\n",
        "    ??????"
      ],
      "metadata": {
        "colab": {
          "base_uri": "https://localhost:8080/"
        },
        "id": "zJDjOFfRJIqD",
        "outputId": "c0b1e2d1-0bf7-435d-af61-83a9fd1a554c"
      },
      "execution_count": 33,
      "outputs": [
        {
          "output_type": "stream",
          "name": "stdout",
          "text": [
            "{'b', 'a', 'c'}\n",
            "{'a', 'c', 'd'}\n",
            "{'a', 'l', 'm'}\n",
            "{'a', 'l', 'f'}\n"
          ]
        }
      ]
    },
    {
      "cell_type": "markdown",
      "source": [
        "Contains duplicate\\\n",
        "having at least one duplicated element:"
      ],
      "metadata": {
        "id": "slmZcoSvR18z"
      }
    },
    {
      "cell_type": "code",
      "source": [
        "x = [1,3,4,4,2,0]\n",
        "set(x)\n",
        "len(set(x))\n",
        "if len(x) > len(set(x)):\n",
        "  print(True)\n",
        "else:\n",
        "  print(False)"
      ],
      "metadata": {
        "colab": {
          "base_uri": "https://localhost:8080/"
        },
        "id": "gCl2Mu6kR475",
        "outputId": "99b6feb9-10ee-4a93-f3c7-ea965820dab8"
      },
      "execution_count": 40,
      "outputs": [
        {
          "output_type": "stream",
          "name": "stdout",
          "text": [
            "True\n"
          ]
        }
      ]
    }
  ]
}